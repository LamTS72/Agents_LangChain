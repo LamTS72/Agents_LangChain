{
 "cells": [
  {
   "cell_type": "code",
   "execution_count": 1,
   "metadata": {},
   "outputs": [],
   "source": [
    "from configparser import ConfigParser\n",
    "from langchain.llms import OpenAI\n",
    "import os\n",
    "\n",
    "config = ConfigParser()\n",
    "config.read(\"../config.ini\")\n",
    "os.environ[\"OPENAI_API_KEY\"] = config[\"KEY\"][\"openai_key\"]\n"
   ]
  },
  {
   "cell_type": "code",
   "execution_count": 2,
   "metadata": {},
   "outputs": [
    {
     "name": "stderr",
     "output_type": "stream",
     "text": [
      "flaml.automl is not available. Please install flaml[automl] to enable AutoML functionalities.\n"
     ]
    }
   ],
   "source": [
    "from autogen import ConversableAgent\n",
    "import os"
   ]
  },
  {
   "cell_type": "markdown",
   "metadata": {},
   "source": [
    "## Using Human Input = \"NEVER\""
   ]
  },
  {
   "cell_type": "code",
   "execution_count": 23,
   "metadata": {},
   "outputs": [],
   "source": [
    "driver = ConversableAgent(\n",
    "        \"driver\",\n",
    "        system_message=\"You are playing  a game of guess my number. You have the number 101 in your mind, and I will try to guess it. If I guess too high, say 'too high', if I guess too low, say 'too low'.\",\n",
    "        llm_config={\"config_list\": [\n",
    "                {\"model\":\"gpt-3.5-turbo\", \"api_key\":os.environ[\"OPENAI_API_KEY\"]}\n",
    "        ]},\n",
    "        is_termination_msg=lambda msg: \"101\" in msg[\"content\"],\n",
    "        human_input_mode=\"NEVER\"\n",
    ")"
   ]
  },
  {
   "cell_type": "code",
   "execution_count": 24,
   "metadata": {},
   "outputs": [],
   "source": [
    "passenger = ConversableAgent(\n",
    "        \"passenger\",\n",
    "        system_message=\"I have a number in my mind, and you will try to guess it. if I say 'too high', you should guess a lower number. If I say 'to low', you should guess a higher number\",\n",
    "        llm_config={\"config_list\": [\n",
    "                {\"model\":\"gpt-3.5-turbo\", \"api_key\":os.environ[\"OPENAI_API_KEY\"]}\n",
    "        ]},\n",
    "        human_input_mode=\"NEVER\"\n",
    ")"
   ]
  },
  {
   "cell_type": "code",
   "execution_count": 25,
   "metadata": {},
   "outputs": [
    {
     "name": "stdout",
     "output_type": "stream",
     "text": [
      "\u001b[33mdriver\u001b[0m (to passenger):\n",
      "\n",
      "The distance from HCM to Vung Tau is between 90 to 120 km. Can you guess it\n",
      "\n",
      "--------------------------------------------------------------------------------\n",
      "\u001b[33mpassenger\u001b[0m (to driver):\n",
      "\n",
      "Is the number 105?\n",
      "\n",
      "--------------------------------------------------------------------------------\n",
      "\u001b[33mdriver\u001b[0m (to passenger):\n",
      "\n",
      "too high\n",
      "\n",
      "--------------------------------------------------------------------------------\n",
      "\u001b[33mpassenger\u001b[0m (to driver):\n",
      "\n",
      "Is the number 95?\n",
      "\n",
      "--------------------------------------------------------------------------------\n",
      "\u001b[33mdriver\u001b[0m (to passenger):\n",
      "\n",
      "too low\n",
      "\n",
      "--------------------------------------------------------------------------------\n",
      "\u001b[33mpassenger\u001b[0m (to driver):\n",
      "\n",
      "Is the number 100?\n",
      "\n",
      "--------------------------------------------------------------------------------\n",
      "\u001b[33mdriver\u001b[0m (to passenger):\n",
      "\n",
      "too low\n",
      "\n",
      "--------------------------------------------------------------------------------\n",
      "\u001b[33mpassenger\u001b[0m (to driver):\n",
      "\n",
      "Is the number 103?\n",
      "\n",
      "--------------------------------------------------------------------------------\n",
      "\u001b[33mdriver\u001b[0m (to passenger):\n",
      "\n",
      "too high\n",
      "\n",
      "--------------------------------------------------------------------------------\n",
      "\u001b[33mpassenger\u001b[0m (to driver):\n",
      "\n",
      "Is the number 101?\n",
      "\n",
      "--------------------------------------------------------------------------------\n"
     ]
    }
   ],
   "source": [
    "result = driver.initiate_chat(\n",
    "        passenger,\n",
    "        message = \"The distance from HCM to Vung Tau is between 90 to 120 km. Can you guess it\"\n",
    ")"
   ]
  },
  {
   "cell_type": "markdown",
   "metadata": {},
   "source": [
    "## Using Human Input = \"ALWAYS\""
   ]
  },
  {
   "cell_type": "code",
   "execution_count": 26,
   "metadata": {},
   "outputs": [],
   "source": [
    "human_passenger = ConversableAgent(\n",
    "        \"human_passenger\",\n",
    "        llm_config=False,\n",
    "        human_input_mode=\"ALWAYS\"\n",
    ")"
   ]
  },
  {
   "cell_type": "code",
   "execution_count": 28,
   "metadata": {},
   "outputs": [
    {
     "name": "stdout",
     "output_type": "stream",
     "text": [
      "\u001b[33mdriver\u001b[0m (to human_passenger):\n",
      "\n",
      "The distance from HCM to Vung Tau is between 90 to 120 km. Can you guess it\n",
      "\n",
      "--------------------------------------------------------------------------------\n",
      "\u001b[31m\n",
      ">>>>>>>> NO HUMAN INPUT RECEIVED.\u001b[0m\n",
      "\u001b[31m\n",
      ">>>>>>>> USING AUTO REPLY...\u001b[0m\n",
      "\u001b[33mhuman_passenger\u001b[0m (to driver):\n",
      "\n",
      "\n",
      "\n",
      "--------------------------------------------------------------------------------\n",
      "\u001b[33mdriver\u001b[0m (to human_passenger):\n",
      "\n",
      "I guessed 110. Am I too high or too low?\n",
      "\n",
      "--------------------------------------------------------------------------------\n",
      "\u001b[33mhuman_passenger\u001b[0m (to driver):\n",
      "\n",
      "102\n",
      "\n",
      "--------------------------------------------------------------------------------\n",
      "\u001b[33mdriver\u001b[0m (to human_passenger):\n",
      "\n",
      "too high\n",
      "\n",
      "--------------------------------------------------------------------------------\n",
      "\u001b[31m\n",
      ">>>>>>>> NO HUMAN INPUT RECEIVED.\u001b[0m\n",
      "\u001b[31m\n",
      ">>>>>>>> USING AUTO REPLY...\u001b[0m\n",
      "\u001b[33mhuman_passenger\u001b[0m (to driver):\n",
      "\n",
      "\n",
      "\n",
      "--------------------------------------------------------------------------------\n",
      "\u001b[33mdriver\u001b[0m (to human_passenger):\n",
      "\n",
      "I guessed 101. Am I correct?\n",
      "\n",
      "--------------------------------------------------------------------------------\n",
      "\u001b[31m\n",
      ">>>>>>>> NO HUMAN INPUT RECEIVED.\u001b[0m\n",
      "\u001b[31m\n",
      ">>>>>>>> USING AUTO REPLY...\u001b[0m\n",
      "\u001b[33mhuman_passenger\u001b[0m (to driver):\n",
      "\n",
      "\n",
      "\n",
      "--------------------------------------------------------------------------------\n",
      "\u001b[33mdriver\u001b[0m (to human_passenger):\n",
      "\n",
      "Yes, that's correct! My number was 101. Thank you for playing the game with me!\n",
      "\n",
      "--------------------------------------------------------------------------------\n"
     ]
    }
   ],
   "source": [
    "result = driver.initiate_chat(\n",
    "        human_passenger,\n",
    "        message = \"The distance from HCM to Vung Tau is between 90 to 120 km. Can you guess it\"\n",
    ")"
   ]
  },
  {
   "cell_type": "markdown",
   "metadata": {},
   "source": [
    "## Using Human Input = \"TERMINATE\""
   ]
  },
  {
   "cell_type": "code",
   "execution_count": 29,
   "metadata": {},
   "outputs": [],
   "source": [
    "driver = ConversableAgent(\n",
    "        \"driver\",\n",
    "        system_message=\"You are playing  a game of guess my number. You have the number 101 in your mind, and I will try to guess it. If I guess too high, say 'too high', if I guess too low, say 'too low'.\",\n",
    "        llm_config={\"config_list\": [\n",
    "                {\"model\":\"gpt-3.5-turbo\", \"api_key\":os.environ[\"OPENAI_API_KEY\"]}\n",
    "        ]},\n",
    "        is_termination_msg=lambda msg: \"101\" in msg[\"content\"],\n",
    "        human_input_mode=\"TERMINATE\"\n",
    ")"
   ]
  },
  {
   "cell_type": "code",
   "execution_count": 30,
   "metadata": {},
   "outputs": [],
   "source": [
    "passenger = ConversableAgent(\n",
    "        \"passenger\",\n",
    "        system_message=\"I have a number in my mind, and you will try to guess it. if I say 'too high', you should guess a lower number. If I say 'to low', you should guess a higher number\",\n",
    "        llm_config={\"config_list\": [\n",
    "                {\"model\":\"gpt-3.5-turbo\", \"api_key\":os.environ[\"OPENAI_API_KEY\"]}\n",
    "        ]},\n",
    "        human_input_mode=\"NEVER\"\n",
    ")"
   ]
  },
  {
   "cell_type": "code",
   "execution_count": 33,
   "metadata": {},
   "outputs": [
    {
     "name": "stdout",
     "output_type": "stream",
     "text": [
      "\u001b[33mdriver\u001b[0m (to passenger):\n",
      "\n",
      "The distance from HCM to Vung Tau is between 90 to 120 km. Can you guess it\n",
      "\n",
      "--------------------------------------------------------------------------------\n",
      "\u001b[33mpassenger\u001b[0m (to driver):\n",
      "\n",
      "Is the number 105?\n",
      "\n",
      "--------------------------------------------------------------------------------\n",
      "\u001b[31m\n",
      ">>>>>>>> USING AUTO REPLY...\u001b[0m\n",
      "\u001b[33mdriver\u001b[0m (to passenger):\n",
      "\n",
      "too high\n",
      "\n",
      "--------------------------------------------------------------------------------\n",
      "\u001b[33mpassenger\u001b[0m (to driver):\n",
      "\n",
      "Is the number 95?\n",
      "\n",
      "--------------------------------------------------------------------------------\n",
      "\u001b[31m\n",
      ">>>>>>>> USING AUTO REPLY...\u001b[0m\n",
      "\u001b[33mdriver\u001b[0m (to passenger):\n",
      "\n",
      "too low\n",
      "\n",
      "--------------------------------------------------------------------------------\n",
      "\u001b[33mpassenger\u001b[0m (to driver):\n",
      "\n",
      "Is the number 100?\n",
      "\n",
      "--------------------------------------------------------------------------------\n",
      "\u001b[31m\n",
      ">>>>>>>> USING AUTO REPLY...\u001b[0m\n",
      "\u001b[33mdriver\u001b[0m (to passenger):\n",
      "\n",
      "too low\n",
      "\n",
      "--------------------------------------------------------------------------------\n",
      "\u001b[33mpassenger\u001b[0m (to driver):\n",
      "\n",
      "Is the number 103?\n",
      "\n",
      "--------------------------------------------------------------------------------\n",
      "\u001b[31m\n",
      ">>>>>>>> USING AUTO REPLY...\u001b[0m\n",
      "\u001b[33mdriver\u001b[0m (to passenger):\n",
      "\n",
      "too high\n",
      "\n",
      "--------------------------------------------------------------------------------\n",
      "\u001b[33mpassenger\u001b[0m (to driver):\n",
      "\n",
      "Is the number 101?\n",
      "\n",
      "--------------------------------------------------------------------------------\n",
      "\u001b[31m\n",
      ">>>>>>>> NO HUMAN INPUT RECEIVED.\u001b[0m\n"
     ]
    }
   ],
   "source": [
    "result = driver.initiate_chat(\n",
    "        passenger,\n",
    "        message = \"The distance from HCM to Vung Tau is between 90 to 120 km. Can you guess it\"\n",
    ")"
   ]
  },
  {
   "cell_type": "code",
   "execution_count": null,
   "metadata": {},
   "outputs": [],
   "source": []
  }
 ],
 "metadata": {
  "kernelspec": {
   "display_name": "PyJupyter",
   "language": "python",
   "name": "python3"
  },
  "language_info": {
   "codemirror_mode": {
    "name": "ipython",
    "version": 3
   },
   "file_extension": ".py",
   "mimetype": "text/x-python",
   "name": "python",
   "nbconvert_exporter": "python",
   "pygments_lexer": "ipython3",
   "version": "3.10.9"
  }
 },
 "nbformat": 4,
 "nbformat_minor": 2
}
