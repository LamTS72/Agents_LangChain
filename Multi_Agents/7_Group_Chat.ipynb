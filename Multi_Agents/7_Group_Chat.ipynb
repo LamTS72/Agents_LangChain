{
 "cells": [
  {
   "cell_type": "markdown",
   "metadata": {},
   "source": [
    "## Using A Superviser For Many Agents Generator Group Chat\n",
    "##### Dùng supervisor như leader để planning và giao task"
   ]
  },
  {
   "cell_type": "code",
   "execution_count": 3,
   "metadata": {},
   "outputs": [],
   "source": [
    "from configparser import ConfigParser\n",
    "from langchain.llms import OpenAI\n",
    "import os\n",
    "\n",
    "config = ConfigParser()\n",
    "config.read(\"../config.ini\")\n",
    "os.environ[\"OPENAI_API_KEY\"] = config[\"KEY\"][\"openai_key\"]\n"
   ]
  },
  {
   "cell_type": "code",
   "execution_count": 4,
   "metadata": {},
   "outputs": [],
   "source": [
    "from autogen import ConversableAgent"
   ]
  },
  {
   "cell_type": "code",
   "execution_count": 5,
   "metadata": {},
   "outputs": [],
   "source": [
    "llm_config = {\"config_list\": [\n",
    "                {\"model\":\"gpt-3.5-turbo\", \"api_key\":os.environ[\"OPENAI_API_KEY\"]}\n",
    "]}"
   ]
  },
  {
   "cell_type": "code",
   "execution_count": 10,
   "metadata": {},
   "outputs": [],
   "source": [
    "teacher_agent = ConversableAgent(\n",
    "        name=\"Teacher_Agent\",\n",
    "        system_message=\"You are teacher, and you will assign a topic to a group of students to write an article\",\n",
    "        llm_config=llm_config\n",
    ")"
   ]
  },
  {
   "cell_type": "code",
   "execution_count": 11,
   "metadata": {},
   "outputs": [],
   "source": [
    "introduction_agent = ConversableAgent(\n",
    "        name=\"Introduction_Student\",\n",
    "        system_message=\"You are very good introduction writer, and I will give you a topic, please write an introduction for this topic\",\n",
    "        llm_config=llm_config,\n",
    "        human_input_mode=\"NEVER\"\n",
    ")"
   ]
  },
  {
   "cell_type": "code",
   "execution_count": 15,
   "metadata": {},
   "outputs": [],
   "source": [
    "body_agent = ConversableAgent(\n",
    "        name=\"Body_Student\",\n",
    "        system_message=\"You are very good body writer, and I will give you a topic and introduction, please write a body for this topic\",\n",
    "        llm_config=llm_config,\n",
    "        human_input_mode=\"NEVER\"\n",
    ")"
   ]
  },
  {
   "cell_type": "code",
   "execution_count": 16,
   "metadata": {},
   "outputs": [],
   "source": [
    "conclusion_agent = ConversableAgent(\n",
    "        name=\"Conclusion_Student\",\n",
    "        system_message=\"You are very good conclusion writer, and I will give you a topic, introduction and body, please write a conclusion for this topic\",\n",
    "        llm_config=llm_config,\n",
    "        human_input_mode=\"NEVER\"\n",
    ")"
   ]
  },
  {
   "cell_type": "code",
   "execution_count": 17,
   "metadata": {},
   "outputs": [],
   "source": [
    "from autogen import GroupChat"
   ]
  },
  {
   "cell_type": "code",
   "execution_count": 19,
   "metadata": {},
   "outputs": [],
   "source": [
    "introduction_agent.description = \"Introduction Writer\"\n",
    "body_agent.description = \"Body Writer\"\n",
    "conclusion_agent.description = \"Conclusion Writer\""
   ]
  },
  {
   "cell_type": "code",
   "execution_count": 29,
   "metadata": {},
   "outputs": [],
   "source": [
    "from email import message\n",
    "\n",
    "\n",
    "group_chat = GroupChat(\n",
    "        agents=[introduction_agent, body_agent, conclusion_agent, teacher_agent],\n",
    "        messages=[],\n",
    "        max_round=4\n",
    ")"
   ]
  },
  {
   "cell_type": "code",
   "execution_count": 30,
   "metadata": {},
   "outputs": [],
   "source": [
    "from autogen import GroupChatManager"
   ]
  },
  {
   "cell_type": "code",
   "execution_count": 31,
   "metadata": {},
   "outputs": [],
   "source": [
    "\n",
    "group_chat_manager = GroupChatManager(\n",
    "        groupchat=group_chat,\n",
    "        llm_config = llm_config\n",
    ")"
   ]
  },
  {
   "cell_type": "code",
   "execution_count": 32,
   "metadata": {},
   "outputs": [
    {
     "name": "stdout",
     "output_type": "stream",
     "text": [
      "\u001b[33mTeacher_Agent\u001b[0m (to chat_manager):\n",
      "\n",
      "The topic today is how to read effectively articles\n",
      "\n",
      "--------------------------------------------------------------------------------\n",
      "\u001b[32m\n",
      "Next speaker: Introduction_Agent\n",
      "\u001b[0m\n",
      "\u001b[33mIntroduction_Agent\u001b[0m (to chat_manager):\n",
      "\n",
      "Reading effectively is a crucial skill that can significantly impact our comprehension and retention of information, especially when it comes to articles. In a world where we are constantly bombarded with vast amounts of information, knowing how to read strategically can make all the difference in our understanding and analysis. By honing our reading skills, we can not only grasp the main ideas presented in an article but also uncover the nuances and critical points that may lie beneath the surface. In this discussion, we will explore some helpful strategies and techniques to enhance our ability to read articles effectively and make the most out of the information presented to us.\n",
      "\n",
      "--------------------------------------------------------------------------------\n",
      "\u001b[32m\n",
      "Next speaker: Body_Student\n",
      "\u001b[0m\n",
      "\u001b[33mBody_Student\u001b[0m (to chat_manager):\n",
      "\n",
      "Reading articles effectively involves more than just scanning through the words on a page. It requires a strategic approach that allows you to comprehend the main ideas, evaluate the author's arguments, and make connections with your existing knowledge. Here are some tips on how to read articles effectively:\n",
      "\n",
      "1. **Preview the article**: Before diving into the article, take a few moments to skim through the headings, subheadings, and any visuals such as graphs or charts. This will give you an overview of the main points and help you focus your reading.\n",
      "\n",
      "2. **Identify the main idea**: As you start reading, pay attention to the thesis statement or main argument of the article. This is usually found in the introduction or conclusion and sets the tone for the rest of the piece.\n",
      "\n",
      "3. **Annotate important points**: Use highlighters, sticky notes, or annotations in the margin to mark key ideas, quotes, or passages that stand out to you. This can help you remember important information and come back to it later.\n",
      "\n",
      "4. **Ask questions**: Engage with the text by asking yourself questions as you read. What is the author trying to convey? Are there any gaps in the argument? How does this information fit with what you already know?\n",
      "\n",
      "5. **Summarize**: After finishing the article, take a moment to summarize the main points in your own words. This can help solidify your understanding and retention of the material.\n",
      "\n",
      "6. **Reflect and connect**: Think about how the article relates to other sources you have read or your own experiences. Making connections between ideas can deepen your understanding and help you retain the information better.\n",
      "\n",
      "7. **Read actively, not passively**: Avoid simply skimming through the article without engaging with the content. Actively thinking about the material as you read will help you stay focused and comprehend the information more effectively.\n",
      "\n",
      "By incorporating these strategies into your reading routine, you can enhance your ability to read articles effectively and extract valuable insights from the information presented to you. Practicing these techniques regularly will not only improve your reading comprehension but also sharpen your critical thinking skills.\n",
      "\n",
      "--------------------------------------------------------------------------------\n",
      "\u001b[32m\n",
      "Next speaker: Conclusion_Student\n",
      "\u001b[0m\n",
      "\u001b[33mConclusion_Student\u001b[0m (to chat_manager):\n",
      "\n",
      "In conclusion, mastering the art of reading articles effectively is a valuable skill that can enhance your comprehension and analysis of information. By previewing the article, identifying the main idea, annotating important points, asking questions, summarizing, reflecting and connecting, and reading actively, you can elevate your reading experience and derive deeper insights from the content you consume. These strategies not only help you understand the main ideas presented in an article but also encourage critical thinking and engagement with the material. By practicing these techniques consistently, you can become a more efficient and strategic reader, empowered to extract valuable knowledge and make the most out of the articles you encounter.\n",
      "\n",
      "--------------------------------------------------------------------------------\n"
     ]
    }
   ],
   "source": [
    "chat_result = teacher_agent.initiate_chat(\n",
    "        group_chat_manager,\n",
    "        message=\"The topic today is how to read effectively articles\",\n",
    "        summary_method=\"reflection_with_llm\"\n",
    ")"
   ]
  },
  {
   "cell_type": "code",
   "execution_count": null,
   "metadata": {},
   "outputs": [],
   "source": []
  }
 ],
 "metadata": {
  "kernelspec": {
   "display_name": "PyJupyter",
   "language": "python",
   "name": "python3"
  },
  "language_info": {
   "codemirror_mode": {
    "name": "ipython",
    "version": 3
   },
   "file_extension": ".py",
   "mimetype": "text/x-python",
   "name": "python",
   "nbconvert_exporter": "python",
   "pygments_lexer": "ipython3",
   "version": "3.10.9"
  }
 },
 "nbformat": 4,
 "nbformat_minor": 2
}
