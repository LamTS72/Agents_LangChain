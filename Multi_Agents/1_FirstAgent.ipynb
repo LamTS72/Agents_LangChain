{
 "cells": [
  {
   "cell_type": "code",
   "execution_count": 13,
   "metadata": {},
   "outputs": [],
   "source": [
    "from configparser import ConfigParser\n",
    "from langchain.llms import OpenAI\n",
    "import os\n",
    "\n",
    "config = ConfigParser()\n",
    "config.read(\"../config.ini\")\n",
    "os.environ[\"OPENAI_API_KEY\"] = config[\"KEY\"][\"openai_key\"]\n"
   ]
  },
  {
   "cell_type": "code",
   "execution_count": 20,
   "metadata": {},
   "outputs": [],
   "source": [
    "from autogen import ConversableAgent\n",
    "import os"
   ]
  },
  {
   "cell_type": "code",
   "execution_count": 15,
   "metadata": {},
   "outputs": [],
   "source": [
    "agent = ConversableAgent(\n",
    "        \"hihhihi\",\n",
    "        llm_config={\"config_list\": [{\"model\":\"gpt-3.5-turbo\", \"api_key\": os.environ[\"OPENAI_API_KEY\"]}]},\n",
    "        code_execution_config=False,\n",
    "        human_input_mode=\"NEVER\"\n",
    ")"
   ]
  },
  {
   "cell_type": "code",
   "execution_count": 16,
   "metadata": {},
   "outputs": [],
   "source": [
    "reply = agent.generate_reply(\n",
    "        messages=[\n",
    "                {\n",
    "                        \"content\":\"how to create a new page in the wiki\",\n",
    "                        \"role\":\"user\"\n",
    "                }\n",
    "        ]\n",
    ")"
   ]
  },
  {
   "cell_type": "code",
   "execution_count": 17,
   "metadata": {},
   "outputs": [
    {
     "name": "stdout",
     "output_type": "stream",
     "text": [
      "To create a new page on a typical wiki platform, you can usually follow these steps:\n",
      "\n",
      "1. Log in to the wiki with your account.\n",
      "2. Navigate to the page where you want to add a new page. This is usually the main page of the wiki or a category page.\n",
      "3. Look for an option like \"Create new page\" or \"Add a new page\" on the wiki's interface. This is typically located in the menu or toolbar.\n",
      "4. Click on the option to start creating a new page. You will be taken to a blank page where you can start adding content.\n",
      "5. Write your content using the wiki markup language or the built-in editor provided by the wiki platform.\n",
      "6. Add relevant headings, images, links, and other elements to the page as needed.\n",
      "7. Preview your page to see how it will look after saving.\n",
      "8. Once you are satisfied with the content, save the page. You may need to provide a title for the new page and add it to relevant categories.\n",
      "9. After saving, the new page will be published on the wiki for others to view and edit.\n",
      "\n",
      "Remember to follow any specific guidelines or formatting rules set by the wiki community when creating and editing pages.\n"
     ]
    }
   ],
   "source": [
    "print(reply)"
   ]
  },
  {
   "cell_type": "markdown",
   "metadata": {},
   "source": [
    "## Create 1 Agent"
   ]
  },
  {
   "cell_type": "code",
   "execution_count": 18,
   "metadata": {},
   "outputs": [],
   "source": [
    "coder = ConversableAgent(\n",
    "        \"chatbot\",\n",
    "        system_message=\"You are Solar, and your are software developer\",\n",
    "        llm_config={\"config_list\": [\n",
    "                {\"model\":\"gpt-3.5-turbo\", \"api_key\":os.environ[\"OPENAI_API_KEY\"]}\n",
    "        ]},\n",
    "        code_execution_config=False,\n",
    "        human_input_mode=\"NEVER\"\n",
    ")"
   ]
  },
  {
   "cell_type": "markdown",
   "metadata": {},
   "source": [
    "## Agent Reply"
   ]
  },
  {
   "cell_type": "code",
   "execution_count": 19,
   "metadata": {},
   "outputs": [
    {
     "name": "stdout",
     "output_type": "stream",
     "text": [
      "My name is Solar. I am a software developer. How can I assist you today?\n"
     ]
    }
   ],
   "source": [
    "reply = coder.generate_reply(\n",
    "        messages=[\n",
    "                {\n",
    "                        \"content\":\"what is your name\",\n",
    "                        \"role\":\"user\"\n",
    "                }\n",
    "        ]\n",
    ")\n",
    "print(reply)"
   ]
  },
  {
   "cell_type": "code",
   "execution_count": null,
   "metadata": {},
   "outputs": [],
   "source": []
  }
 ],
 "metadata": {
  "kernelspec": {
   "display_name": "PyJupyter",
   "language": "python",
   "name": "python3"
  },
  "language_info": {
   "codemirror_mode": {
    "name": "ipython",
    "version": 3
   },
   "file_extension": ".py",
   "mimetype": "text/x-python",
   "name": "python",
   "nbconvert_exporter": "python",
   "pygments_lexer": "ipython3",
   "version": "3.10.9"
  }
 },
 "nbformat": 4,
 "nbformat_minor": 2
}
