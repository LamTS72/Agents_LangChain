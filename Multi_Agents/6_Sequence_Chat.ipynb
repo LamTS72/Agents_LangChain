{
 "cells": [
  {
   "cell_type": "markdown",
   "metadata": {},
   "source": [
    "## Using Sequence Result Generator Chat\n",
    "##### Dùng kết quả của Agent 1 -> Input cho Agent 2 ->  Input cho Agent 3 -> Output"
   ]
  },
  {
   "cell_type": "code",
   "execution_count": 20,
   "metadata": {},
   "outputs": [],
   "source": [
    "from configparser import ConfigParser\n",
    "from langchain.llms import OpenAI\n",
    "import os\n",
    "\n",
    "config = ConfigParser()\n",
    "config.read(\"../config.ini\")\n",
    "os.environ[\"OPENAI_API_KEY\"] = config[\"KEY\"][\"openai_key\"]\n"
   ]
  },
  {
   "cell_type": "code",
   "execution_count": 21,
   "metadata": {},
   "outputs": [],
   "source": [
    "from autogen import ConversableAgent"
   ]
  },
  {
   "cell_type": "code",
   "execution_count": 22,
   "metadata": {},
   "outputs": [],
   "source": [
    "llm_config = {\"config_list\": [\n",
    "                {\"model\":\"gpt-3.5-turbo\", \"api_key\":os.environ[\"OPENAI_API_KEY\"]}\n",
    "]}"
   ]
  },
  {
   "cell_type": "code",
   "execution_count": 23,
   "metadata": {},
   "outputs": [],
   "source": [
    "student_agent = ConversableAgent(\n",
    "        name=\"Student_Agent\",\n",
    "        system_message=\"You are student, and you are looking for some idea for your topic to write an article\",\n",
    "        llm_config=llm_config\n",
    ")"
   ]
  },
  {
   "cell_type": "code",
   "execution_count": 24,
   "metadata": {},
   "outputs": [],
   "source": [
    "introduction_agent = ConversableAgent(\n",
    "        name=\"Introduction_Agent\",\n",
    "        system_message=\"You are very good introduction writer, and I will give you a topic, please write an introduction for this topic\",\n",
    "        llm_config=llm_config,\n",
    "        human_input_mode=\"NEVER\"\n",
    ")"
   ]
  },
  {
   "cell_type": "code",
   "execution_count": 25,
   "metadata": {},
   "outputs": [],
   "source": [
    "body_agent = ConversableAgent(\n",
    "        name=\"Body_Agent\",\n",
    "        system_message=\"You are very good body writer, and I will give you a topic and introduction, please write a body for this topic\",\n",
    "        llm_config=llm_config,\n",
    "        human_input_mode=\"NEVER\"\n",
    ")"
   ]
  },
  {
   "cell_type": "code",
   "execution_count": 26,
   "metadata": {},
   "outputs": [],
   "source": [
    "conclusion_agent = ConversableAgent(\n",
    "        name=\"Conclusion_Agent\",\n",
    "        system_message=\"You are very good conclusion writer, and I will give you a topic, introduction and body, please write a conclusion for this topic\",\n",
    "        llm_config=llm_config,\n",
    "        human_input_mode=\"NEVER\"\n",
    ")"
   ]
  },
  {
   "cell_type": "code",
   "execution_count": 27,
   "metadata": {},
   "outputs": [],
   "source": [
    "topic = \"The development of artificial intelligence is the human workforce\""
   ]
  },
  {
   "cell_type": "code",
   "execution_count": 28,
   "metadata": {},
   "outputs": [
    {
     "name": "stdout",
     "output_type": "stream",
     "text": [
      "\u001b[34m\n",
      "********************************************************************************\u001b[0m\n",
      "\u001b[34mStarting a new chat....\u001b[0m\n",
      "\u001b[34m\n",
      "********************************************************************************\u001b[0m\n",
      "\u001b[33mStudent_Agent\u001b[0m (to Introduction_Agent):\n",
      "\n",
      "This is my topic: The development of artificial intelligence is the human workforce\n",
      "\n",
      "--------------------------------------------------------------------------------\n",
      "\u001b[33mIntroduction_Agent\u001b[0m (to Student_Agent):\n",
      "\n",
      "Artificial intelligence (AI) has experienced significant advancements in recent years, revolutionizing numerous industries and changing the way we live and work. One of the most pressing questions surrounding this technological evolution is the impact it will have on the human workforce. As AI continues to develop and automate tasks that were previously performed by humans, there is a growing concern about the potential effects on employment and the future of work. In this introduction, we will explore the complex relationship between the development of artificial intelligence and the human workforce, examining the challenges and opportunities that lie ahead in this rapidly evolving landscape.\n",
      "\n",
      "--------------------------------------------------------------------------------\n",
      "\u001b[34m\n",
      "********************************************************************************\u001b[0m\n",
      "\u001b[34mStarting a new chat....\u001b[0m\n",
      "\u001b[34m\n",
      "********************************************************************************\u001b[0m\n",
      "\u001b[33mStudent_Agent\u001b[0m (to Body_Agent):\n",
      "\n",
      "This is my topic and introduction\n",
      "Context: \n",
      "Artificial intelligence (AI) has experienced significant advancements in recent years, revolutionizing numerous industries and changing the way we live and work. One of the most pressing questions surrounding this technological evolution is the impact it will have on the human workforce. As AI continues to develop and automate tasks that were previously performed by humans, there is a growing concern about the potential effects on employment and the future of work. In this introduction, we will explore the complex relationship between the development of artificial intelligence and the human workforce, examining the challenges and opportunities that lie ahead in this rapidly evolving landscape.\n",
      "\n",
      "--------------------------------------------------------------------------------\n",
      "\u001b[33mBody_Agent\u001b[0m (to Student_Agent):\n",
      "\n",
      "As artificial intelligence (AI) technology continues to advance at a rapid pace, there is an increasing focus on its potential implications for the human workforce. The integration of AI in various industries has led to concerns about the future of work and the impact it will have on job opportunities for humans. While AI has the capacity to automate repetitive tasks and streamline processes, there are also fears that it could lead to widespread job displacement and economic instability. In the following discussion, we will delve into the challenges and opportunities presented by the integration of AI in the workforce, exploring how this transformative technology is reshaping the employment landscape and what it means for the future of work.\n",
      "\n",
      "--------------------------------------------------------------------------------\n",
      "\u001b[34m\n",
      "********************************************************************************\u001b[0m\n",
      "\u001b[34mStarting a new chat....\u001b[0m\n",
      "\u001b[34m\n",
      "********************************************************************************\u001b[0m\n",
      "\u001b[33mStudent_Agent\u001b[0m (to Conclusion_Agent):\n",
      "\n",
      "This is my topic, introduction and body\n",
      "Context: \n",
      "Artificial intelligence (AI) has experienced significant advancements in recent years, revolutionizing numerous industries and changing the way we live and work. One of the most pressing questions surrounding this technological evolution is the impact it will have on the human workforce. As AI continues to develop and automate tasks that were previously performed by humans, there is a growing concern about the potential effects on employment and the future of work. In this introduction, we will explore the complex relationship between the development of artificial intelligence and the human workforce, examining the challenges and opportunities that lie ahead in this rapidly evolving landscape.\n",
      "As artificial intelligence (AI) technology continues to advance at a rapid pace, there is an increasing focus on its potential implications for the human workforce. The integration of AI in various industries has led to concerns about the future of work and the impact it will have on job opportunities for humans. While AI has the capacity to automate repetitive tasks and streamline processes, there are also fears that it could lead to widespread job displacement and economic instability. In the following discussion, we will delve into the challenges and opportunities presented by the integration of AI in the workforce, exploring how this transformative technology is reshaping the employment landscape and what it means for the future of work.\n",
      "\n",
      "--------------------------------------------------------------------------------\n",
      "\u001b[33mConclusion_Agent\u001b[0m (to Student_Agent):\n",
      "\n",
      "In conclusion, the integration of artificial intelligence (AI) in the workforce presents both challenges and opportunities for the future of work. While AI has the potential to automate tasks, increase efficiency, and drive innovation in various industries, there are legitimate concerns about its impact on job opportunities for humans and the potential for job displacement. As we navigate this rapidly evolving landscape, it is essential for policymakers, businesses, and individuals to work together to address the challenges posed by AI integration while also harnessing its potential for creating new job opportunities, upskilling the workforce, and driving economic growth. By fostering collaboration, investing in education and training programs, and proactively addressing the ethical and social implications of AI technology, we can ensure a future where humans and AI can coexist, complement each other's strengths, and thrive in a rapidly changing digital economy.\n",
      "\n",
      "--------------------------------------------------------------------------------\n"
     ]
    }
   ],
   "source": [
    "chat_result = student_agent.initiate_chats(\n",
    "        [\n",
    "                {\n",
    "                        \"recipient\": introduction_agent,\n",
    "                        \"message\":f\"This is my topic: {topic}\",\n",
    "                        \"max_turns\": 1,\n",
    "                        \"summary_method\":\"last_msg\",\n",
    "                },\n",
    "                {\n",
    "                        \"recipient\":body_agent,\n",
    "                        \"message\":f\"This is my topic and introduction\",\n",
    "                        \"max_turns\": 1,\n",
    "                        \"summary_method\":\"last_msg\",\n",
    "                },\n",
    "                {\n",
    "                        \"recipient\": conclusion_agent,\n",
    "                        \"message\":f\"This is my topic, introduction and body\",\n",
    "                        \"max_turns\": 1,\n",
    "                        \"summary_method\":\"last_msg\",\n",
    "                },\n",
    "                \n",
    "        ]\n",
    ")"
   ]
  },
  {
   "cell_type": "code",
   "execution_count": 29,
   "metadata": {},
   "outputs": [
    {
     "data": {
      "text/plain": [
       "3"
      ]
     },
     "execution_count": 29,
     "metadata": {},
     "output_type": "execute_result"
    }
   ],
   "source": [
    "len(chat_result)"
   ]
  },
  {
   "cell_type": "code",
   "execution_count": 30,
   "metadata": {},
   "outputs": [
    {
     "data": {
      "text/plain": [
       "'Artificial intelligence (AI) has experienced significant advancements in recent years, revolutionizing numerous industries and changing the way we live and work. One of the most pressing questions surrounding this technological evolution is the impact it will have on the human workforce. As AI continues to develop and automate tasks that were previously performed by humans, there is a growing concern about the potential effects on employment and the future of work. In this introduction, we will explore the complex relationship between the development of artificial intelligence and the human workforce, examining the challenges and opportunities that lie ahead in this rapidly evolving landscape.'"
      ]
     },
     "execution_count": 30,
     "metadata": {},
     "output_type": "execute_result"
    }
   ],
   "source": [
    "chat_result[0].chat_history[1][\"content\"]"
   ]
  },
  {
   "cell_type": "code",
   "execution_count": 31,
   "metadata": {},
   "outputs": [
    {
     "data": {
      "text/plain": [
       "'As artificial intelligence (AI) technology continues to advance at a rapid pace, there is an increasing focus on its potential implications for the human workforce. The integration of AI in various industries has led to concerns about the future of work and the impact it will have on job opportunities for humans. While AI has the capacity to automate repetitive tasks and streamline processes, there are also fears that it could lead to widespread job displacement and economic instability. In the following discussion, we will delve into the challenges and opportunities presented by the integration of AI in the workforce, exploring how this transformative technology is reshaping the employment landscape and what it means for the future of work.'"
      ]
     },
     "execution_count": 31,
     "metadata": {},
     "output_type": "execute_result"
    }
   ],
   "source": [
    "chat_result[1].chat_history[1][\"content\"]"
   ]
  },
  {
   "cell_type": "code",
   "execution_count": null,
   "metadata": {},
   "outputs": [],
   "source": [
    "chat_result[1].chat_history[1][\"content\"] "
   ]
  }
 ],
 "metadata": {
  "kernelspec": {
   "display_name": "PyJupyter",
   "language": "python",
   "name": "python3"
  },
  "language_info": {
   "codemirror_mode": {
    "name": "ipython",
    "version": 3
   },
   "file_extension": ".py",
   "mimetype": "text/x-python",
   "name": "python",
   "nbconvert_exporter": "python",
   "pygments_lexer": "ipython3",
   "version": "3.10.9"
  }
 },
 "nbformat": 4,
 "nbformat_minor": 2
}
