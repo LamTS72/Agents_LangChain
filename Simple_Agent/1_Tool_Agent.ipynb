{
 "cells": [
  {
   "cell_type": "markdown",
   "metadata": {},
   "source": [
    "##### Agent sử dụng tool có sẵn tích hợp 3rd party"
   ]
  },
  {
   "cell_type": "code",
   "execution_count": 2,
   "metadata": {},
   "outputs": [],
   "source": [
    "from configparser import ConfigParser\n",
    "from langchain.llms import OpenAI\n",
    "import os\n",
    "\n",
    "config = ConfigParser()\n",
    "config.read(\"../config.ini\")\n",
    "os.environ[\"OPENAI_API_KEY\"]=config[\"KEY\"][\"openai_key\"]\n",
    "os.environ[\"TAVILY_API_KEY\"]  = config[\"KEY\"][\"tavily_key\"]\n"
   ]
  },
  {
   "cell_type": "markdown",
   "metadata": {},
   "source": [
    "## Create Tools"
   ]
  },
  {
   "cell_type": "code",
   "execution_count": 6,
   "metadata": {},
   "outputs": [],
   "source": [
    "from langchain_community.tools.tavily_search import TavilySearchResults"
   ]
  },
  {
   "cell_type": "code",
   "execution_count": 11,
   "metadata": {},
   "outputs": [],
   "source": [
    "search = TavilySearchResults()"
   ]
  },
  {
   "cell_type": "code",
   "execution_count": 12,
   "metadata": {},
   "outputs": [
    {
     "data": {
      "text/plain": [
       "TavilySearchResults(api_wrapper=TavilySearchAPIWrapper(tavily_api_key=SecretStr('**********')))"
      ]
     },
     "execution_count": 12,
     "metadata": {},
     "output_type": "execute_result"
    }
   ],
   "source": [
    "search"
   ]
  },
  {
   "cell_type": "code",
   "execution_count": 13,
   "metadata": {},
   "outputs": [],
   "source": [
    "result = search.invoke(\n",
    "        {\n",
    "                \"query\": \"what is quantum machnics\",\n",
    "                \"include_answer\":False\n",
    "        }\n",
    ")"
   ]
  },
  {
   "cell_type": "code",
   "execution_count": 14,
   "metadata": {},
   "outputs": [
    {
     "data": {
      "text/plain": [
       "[{'url': 'https://brilliant.org/wiki/quantum-mechanics/',\n",
       "  'content': \"Quantum Mechanics. Quantum mechanics [QM] is a branch of physics which describes physical systems so that properties like the energy or angular momentum are discrete quantities that are multiples of a smallest unit or quantum. A famous physicist named Erwin Schrödinger made an example of quantum mechanics, often called Schrödinger's cat.\"},\n",
       " {'url': 'https://scitechdaily.com/science-simplified-what-is-quantum-mechanics/',\n",
       "  'content': 'Quantum mechanics is a theory that deals with the most fundamental bits of matter, energy and light and the ways they interact with each other to make up the world. This landmark theory originated in the early 20th century and is finding many real-world applications in the 21st century. Applying quantum mechanics in the laboratory, Argonne ...'},\n",
       " {'url': 'https://www.livescience.com/33816-quantum-mechanics-explanation.html',\n",
       "  'content': \"How is quantum mechanics different from classical physics?\\nAt the scale of atoms and electrons, many of the equations of classical mechanics, which describe the movement and interactions of things at everyday sizes and speeds, cease to be useful.\\n World's largest gravitational wave observatory squeezes light beyond the 'quantum limit'\\nQuantum Physics\\n13,000-year-old bone bead is the oldest of its kind in the Americas\\nBy Anna GoraDecember 27, 2023\\n Researchers frequently conduct experiments using quantum entanglement and the phenomenon is part of the basis for the emerging field of quantum computing.\\nAre quantum mechanics and general relativity incompatible?\\n It started at the turn of the 20th century, around the same time Albert Einstein published his theory of relativity, a separate revolution in physics that describes the motion of things at high speeds. In 1924, French physicist Louis de Broglie used the equations of Einstein's theory of special relativity to show that particles can exhibit wave-like characteristics and that waves can exhibit particle-like characteristics — a finding for which he won the Nobel Prize a few years later.\\n\"},\n",
       " {'url': 'https://www.newscientist.com/definition/quantum-mechanics/',\n",
       "  'content': 'More on Quantum mechanics\\nQuantum memory device could stop unhackable networks from failing\\nNews\\nSubscriber-only\\nHow one theory ties together everything we know about the universe\\nNews\\nSubscriber-only\\nOdd quantum property may let us chill things closer to absolute zero\\nNews\\nSubscriber-only\\nRelated articles\\nAntimatter\\nFree\\nCosmic microwave background\\nFree\\nGeneral relativity\\nFree\\nAdvertisement\\nDownload the app Advertisement\\nExplore by section\\nExplore by subject\\nExplore our products and services\\nQuantum mechanics\\nYAY Media AS/Alamy\\nQuantum mechanics is the best tool we have to understand how the universe works on its smallest scales. In the face of new evidence, physicists are starting to view the cosmos not as made up of disparate layers, but as a quantum whole linked by entanglement\\nAdvertisement\\nThe new picture that emerged showed a world totally unlike the one we knew. Advertisement\\nSign up to our weekly newsletter\\nReceive a weekly dose of discovery in your inbox!\\n In their attempts to make sense of quantum weirdness, they have come up with a host of different interpretations of the mathematics at the theory’s heart.'},\n",
       " {'url': 'https://www.britannica.com/science/quantum-mechanics-physics',\n",
       "  'content': 'Given the wavelength of the light and the geometry of the apparatus (i.e., the separation and widths of the slits and the distance from the slits to the screen), one can use the wave theory to calculate the expected pattern in each case; the theory agrees precisely with the experimental data.\\n According to the theory, a bright band is produced when the crests (and troughs) of the waves from the two slits arrive together at the screen; a dark band is produced when the crest of one wave arrives at the same time as the trough of the other, and the effects of the two light beams cancel. It is important to realize that quantum mechanics is a branch of physics and that the business of physics is to describe and account for the way the world—on both the large and the small scale—actually is and not how one imagines it or would like it to be.\\n The energy radiated at different wavelengths is a maximum at a wavelength that depends on the temperature of the body; the hotter the body, the shorter the wavelength for maximum radiation. In spite of the overwhelming practical success of quantum mechanics, the foundations of the subject contain unresolved problems—in particular, problems concerning the nature of measurement.'}]"
      ]
     },
     "execution_count": 14,
     "metadata": {},
     "output_type": "execute_result"
    }
   ],
   "source": [
    "result"
   ]
  },
  {
   "cell_type": "code",
   "execution_count": 15,
   "metadata": {},
   "outputs": [],
   "source": [
    "tools = [search]"
   ]
  },
  {
   "cell_type": "markdown",
   "metadata": {},
   "source": [
    "## Create LLM Model"
   ]
  },
  {
   "cell_type": "code",
   "execution_count": 16,
   "metadata": {},
   "outputs": [],
   "source": [
    "from langchain_openai import ChatOpenAI"
   ]
  },
  {
   "cell_type": "code",
   "execution_count": 17,
   "metadata": {},
   "outputs": [],
   "source": [
    "llm = ChatOpenAI(model=\"gpt-3.5-turbo-0125\", temperature=0.2)"
   ]
  },
  {
   "cell_type": "markdown",
   "metadata": {},
   "source": [
    "## Create Prompt"
   ]
  },
  {
   "cell_type": "code",
   "execution_count": 18,
   "metadata": {},
   "outputs": [],
   "source": [
    "from langchain import hub"
   ]
  },
  {
   "cell_type": "code",
   "execution_count": 19,
   "metadata": {},
   "outputs": [
    {
     "name": "stderr",
     "output_type": "stream",
     "text": [
      "/Users/chessman/miniforge3/envs/PyJupyter/lib/python3.10/site-packages/langsmith/client.py:323: LangSmithMissingAPIKeyWarning: API key must be provided when using hosted LangSmith API\n",
      "  warnings.warn(\n"
     ]
    }
   ],
   "source": [
    "prompt = hub.pull(\"hwchase17/openai-functions-agent\")"
   ]
  },
  {
   "cell_type": "code",
   "execution_count": 20,
   "metadata": {},
   "outputs": [
    {
     "data": {
      "text/plain": [
       "[SystemMessagePromptTemplate(prompt=PromptTemplate(input_variables=[], input_types={}, partial_variables={}, template='You are a helpful assistant'), additional_kwargs={}),\n",
       " MessagesPlaceholder(variable_name='chat_history', optional=True),\n",
       " HumanMessagePromptTemplate(prompt=PromptTemplate(input_variables=['input'], input_types={}, partial_variables={}, template='{input}'), additional_kwargs={}),\n",
       " MessagesPlaceholder(variable_name='agent_scratchpad')]"
      ]
     },
     "execution_count": 20,
     "metadata": {},
     "output_type": "execute_result"
    }
   ],
   "source": [
    "prompt.messages"
   ]
  },
  {
   "cell_type": "code",
   "execution_count": 21,
   "metadata": {},
   "outputs": [],
   "source": [
    "from langchain.agents import create_tool_calling_agent, AgentExecutor"
   ]
  },
  {
   "cell_type": "markdown",
   "metadata": {},
   "source": [
    "## Create Chain Agent"
   ]
  },
  {
   "cell_type": "code",
   "execution_count": 22,
   "metadata": {},
   "outputs": [],
   "source": [
    "agent = create_tool_calling_agent(llm=llm, tools=tools, prompt=prompt)"
   ]
  },
  {
   "cell_type": "markdown",
   "metadata": {},
   "source": [
    "## Create Agent Executor"
   ]
  },
  {
   "cell_type": "code",
   "execution_count": 24,
   "metadata": {},
   "outputs": [],
   "source": [
    "agent_executor = AgentExecutor(agent=agent, tools=tools, prompt=prompt, verbose=True)"
   ]
  },
  {
   "cell_type": "code",
   "execution_count": 25,
   "metadata": {},
   "outputs": [
    {
     "name": "stdout",
     "output_type": "stream",
     "text": [
      "\n",
      "\n",
      "\u001b[1m> Entering new AgentExecutor chain...\u001b[0m\n",
      "\u001b[32;1m\u001b[1;3m\n",
      "Invoking: `tavily_search_results_json` with `{'query': 'weather in Ho Chi Minh City, Viet Nam'}`\n",
      "\n",
      "\n",
      "\u001b[0m\u001b[36;1m\u001b[1;3m[{'url': 'https://www.weatherapi.com/', 'content': \"{'location': {'name': 'Ho Chi Minh City', 'region': '', 'country': 'Vietnam', 'lat': 10.75, 'lon': 106.6667, 'tz_id': 'Asia/Ho_Chi_Minh', 'localtime_epoch': 1727976194, 'localtime': '2024-10-04 00:23'}, 'current': {'last_updated_epoch': 1727975700, 'last_updated': '2024-10-04 00:15', 'temp_c': 26.3, 'temp_f': 79.3, 'is_day': 0, 'condition': {'text': 'Clear', 'icon': '//cdn.weatherapi.com/weather/64x64/night/113.png', 'code': 1000}, 'wind_mph': 2.2, 'wind_kph': 3.6, 'wind_degree': 243, 'wind_dir': 'WSW', 'pressure_mb': 1010.0, 'pressure_in': 29.83, 'precip_mm': 0.13, 'precip_in': 0.01, 'humidity': 94, 'cloud': 0, 'feelslike_c': 30.5, 'feelslike_f': 86.9, 'windchill_c': 25.0, 'windchill_f': 77.0, 'heatindex_c': 28.0, 'heatindex_f': 82.4, 'dewpoint_c': 23.8, 'dewpoint_f': 74.8, 'vis_km': 6.0, 'vis_miles': 3.0, 'uv': 1.0, 'gust_mph': 6.7, 'gust_kph': 10.8}}\"}, {'url': 'https://www.timeanddate.com/weather/vietnam/ho-chi-minh/ext', 'content': 'Ho Chi Minh 14 Day Extended Forecast. Currently: 88 °F. Partly sunny. (Weather station: Ho Chi Minh, Vietnam). See more current weather.'}, {'url': 'https://www.ventusky.com/ho-chi-minh-city', 'content': 'Thành phố Hồ Chí Minh (Ho Chi Minh City) ☀ Weather forecast for 10 days, information from meteorological stations, webcams, sunrise and sunset, wind and precipitation maps for this place ... Weather report from station Ho Chi Minh/tans, Distance: 4 km (00:00 2024/10/01) ... Weather for the next 24 hours . 01:00 02:00 03:00 04:00 05:00 ...'}, {'url': 'https://www.timeanddate.com/weather/@1580578/ext', 'content': 'Ho Chi Minh City 14 Day Extended Forecast. Weather Today Weather Hourly 14 Day Forecast Yesterday/Past Weather Climate (Averages) Currently: 84 °F. Clear. (Weather station: Ho Chi Minh, Vietnam). See more current weather.'}, {'url': 'https://www.vietnamonline.com/weather/ho-chi-minh-city.html', 'content': 'Last updated: January 20, 2024\\nPast Weather in Ho Chi Minh City\\nHistoric weather in Ho Chi Minh City from 19 January, 2024 back to 13 January, 2024.\\n Ho Chi Minh city\\n7 Days Weather Forecast\\nLocal hourly Ho Chi Minh City weather forecast of rain, temperature, sunrise, humidity, wind and pressure.\\n Frequently asked questions\\nJanuary is the coldest month in Ho Chi Minh City, with the average temperature dropping to a low of 23.0°C (73.4°F).\\n March is the hottest month in Ho Chi Minh City with temperature averaging between 35.4°C (95.72°F) and 27.0°C (80.6°F).\\n Ho Chi Minh City Weather\\nWhat is the weather like in Ho Chi Minh City, Vietnam right now?'}]\u001b[0m\u001b[32;1m\u001b[1;3mThe current weather in Ho Chi Minh City, Vietnam is as follows:\n",
      "- Temperature: 26.3°C (79.3°F)\n",
      "- Condition: Clear\n",
      "- Wind: 3.6 km/h (WSW)\n",
      "- Humidity: 94%\n",
      "- Precipitation: 0.01 in\n",
      "\n",
      "If you need more detailed information or a forecast, feel free to ask!\u001b[0m\n",
      "\n",
      "\u001b[1m> Finished chain.\u001b[0m\n"
     ]
    },
    {
     "data": {
      "text/plain": [
       "{'input': 'what is the weather in Ho Chi Minh City, Viet Nam',\n",
       " 'output': 'The current weather in Ho Chi Minh City, Vietnam is as follows:\\n- Temperature: 26.3°C (79.3°F)\\n- Condition: Clear\\n- Wind: 3.6 km/h (WSW)\\n- Humidity: 94%\\n- Precipitation: 0.01 in\\n\\nIf you need more detailed information or a forecast, feel free to ask!'}"
      ]
     },
     "execution_count": 25,
     "metadata": {},
     "output_type": "execute_result"
    }
   ],
   "source": [
    "agent_executor.invoke({\n",
    "        \"input\":\"what is the weather in Ho Chi Minh City, Viet Nam\"\n",
    "})"
   ]
  },
  {
   "cell_type": "markdown",
   "metadata": {},
   "source": [
    "## Create Memory"
   ]
  },
  {
   "cell_type": "code",
   "execution_count": 27,
   "metadata": {},
   "outputs": [],
   "source": [
    "from langchain.schema import AIMessage, HumanMessage"
   ]
  },
  {
   "cell_type": "markdown",
   "metadata": {},
   "source": [
    "### Manual"
   ]
  },
  {
   "cell_type": "code",
   "execution_count": 28,
   "metadata": {},
   "outputs": [
    {
     "name": "stdout",
     "output_type": "stream",
     "text": [
      "\n",
      "\n",
      "\u001b[1m> Entering new AgentExecutor chain...\u001b[0m\n",
      "\u001b[32;1m\u001b[1;3mYour name is Eric.\u001b[0m\n",
      "\n",
      "\u001b[1m> Finished chain.\u001b[0m\n"
     ]
    },
    {
     "data": {
      "text/plain": [
       "{'chat_history': [HumanMessage(content='Hello, my name is Eric', additional_kwargs={}, response_metadata={}),\n",
       "  AIMessage(content='Hi Eric, How can I help you', additional_kwargs={}, response_metadata={})],\n",
       " 'input': 'what is my name',\n",
       " 'output': 'Your name is Eric.'}"
      ]
     },
     "execution_count": 28,
     "metadata": {},
     "output_type": "execute_result"
    }
   ],
   "source": [
    "agent_executor.invoke(\n",
    "        {\n",
    "                \"chat_history\":[\n",
    "                        HumanMessage(content=\"Hello, my name is Eric\"),\n",
    "                        AIMessage(content=\"Hi Eric, How can I help you\")\n",
    "                ],\n",
    "                \"input\":\"what is my name\"\n",
    "        }\n",
    ")"
   ]
  },
  {
   "cell_type": "markdown",
   "metadata": {},
   "source": [
    "### Auto"
   ]
  },
  {
   "cell_type": "code",
   "execution_count": 41,
   "metadata": {},
   "outputs": [],
   "source": [
    "from langchain_community.chat_message_histories import ChatMessageHistory\n",
    "from langchain_core.runnables.history import RunnableWithMessageHistory"
   ]
  },
  {
   "cell_type": "code",
   "execution_count": 42,
   "metadata": {},
   "outputs": [],
   "source": [
    "message_history = ChatMessageHistory()"
   ]
  },
  {
   "cell_type": "code",
   "execution_count": 43,
   "metadata": {},
   "outputs": [],
   "source": [
    "agent_with_message_history = RunnableWithMessageHistory(\n",
    "        agent_executor,\n",
    "        lambda session_id: message_history,\n",
    "        input_messages_key=\"input\",\n",
    "        history_messages_key=\"chat_history\"\n",
    ")"
   ]
  },
  {
   "cell_type": "code",
   "execution_count": 45,
   "metadata": {},
   "outputs": [
    {
     "name": "stdout",
     "output_type": "stream",
     "text": [
      "\n",
      "\n",
      "\u001b[1m> Entering new AgentExecutor chain...\u001b[0m\n",
      "\u001b[32;1m\u001b[1;3mHello Red! How can I assist you today?\u001b[0m\n",
      "\n",
      "\u001b[1m> Finished chain.\u001b[0m\n"
     ]
    },
    {
     "data": {
      "text/plain": [
       "{'input': 'Hi, my name is Red',\n",
       " 'chat_history': [],\n",
       " 'output': 'Hello Red! How can I assist you today?'}"
      ]
     },
     "execution_count": 45,
     "metadata": {},
     "output_type": "execute_result"
    }
   ],
   "source": [
    "agent_with_message_history.invoke(\n",
    "        {\"input\":\"Hi, my name is Red\"},\n",
    "        config={\"configurable\":{\"session_id\": \"<foo>\"}}\n",
    ")"
   ]
  },
  {
   "cell_type": "code",
   "execution_count": 46,
   "metadata": {},
   "outputs": [
    {
     "name": "stdout",
     "output_type": "stream",
     "text": [
      "\n",
      "\n",
      "\u001b[1m> Entering new AgentExecutor chain...\u001b[0m\n",
      "\u001b[32;1m\u001b[1;3mYour name is Red. How can I help you further, Red?\u001b[0m\n",
      "\n",
      "\u001b[1m> Finished chain.\u001b[0m\n"
     ]
    },
    {
     "data": {
      "text/plain": [
       "{'input': 'what is my name',\n",
       " 'chat_history': [HumanMessage(content='Hi, my name is Red', additional_kwargs={}, response_metadata={}),\n",
       "  AIMessage(content='Hello Red! How can I assist you today?', additional_kwargs={}, response_metadata={})],\n",
       " 'output': 'Your name is Red. How can I help you further, Red?'}"
      ]
     },
     "execution_count": 46,
     "metadata": {},
     "output_type": "execute_result"
    }
   ],
   "source": [
    "agent_with_message_history.invoke(\n",
    "        {\"input\":\"what is my name\"},\n",
    "        config={\"configurable\":{\"session_id\": \"<foo>\"}}\n",
    ")"
   ]
  },
  {
   "cell_type": "code",
   "execution_count": null,
   "metadata": {},
   "outputs": [],
   "source": []
  }
 ],
 "metadata": {
  "kernelspec": {
   "display_name": "PyJupyter",
   "language": "python",
   "name": "python3"
  },
  "language_info": {
   "codemirror_mode": {
    "name": "ipython",
    "version": 3
   },
   "file_extension": ".py",
   "mimetype": "text/x-python",
   "name": "python",
   "nbconvert_exporter": "python",
   "pygments_lexer": "ipython3",
   "version": "3.10.9"
  }
 },
 "nbformat": 4,
 "nbformat_minor": 2
}
